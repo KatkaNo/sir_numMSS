{
 "cells": [
  {
   "cell_type": "code",
   "execution_count": 41,
   "id": "9d5bec73-2701-4bf9-b8ee-c4001e72ab17",
   "metadata": {},
   "outputs": [],
   "source": [
    "import math\n",
    "import numpy as np"
   ]
  },
  {
   "cell_type": "code",
   "execution_count": 60,
   "id": "b4581a4f-33c2-4a95-8a8b-f3ba14edfb73",
   "metadata": {},
   "outputs": [],
   "source": [
    "N = 10\n",
    "\n",
    "a = np.full(N, 2)\n",
    "aup = np.full(N, -1)\n",
    "adown = np.full(N, -1)\n",
    "\n",
    "b = np.full(N, 1)"
   ]
  },
  {
   "cell_type": "code",
   "execution_count": 61,
   "id": "11c48602-2f83-4141-8c64-7b350567b0b4",
   "metadata": {},
   "outputs": [],
   "source": [
    "def Metod_Progonki(N, a, aup, adown, b):\n",
    "\n",
    "    q = np.zeros(N)\n",
    "    g = np.zeros(N)\n",
    "    u = np.zeros(N)\n",
    "\n",
    "    #forward:\n",
    "    q[0] = aup[0] / a[0]  #q1 = bi/ai\n",
    "    g[0] = b[0] / a[0]   #g1 = di/ai\n",
    "\n",
    "    for i in range (1, N):\n",
    "      w  = a[i] - adown[i] * q[i-1]\n",
    "\n",
    "      # w != 0\n",
    "      if w == 0:\n",
    "        print('error: w[i] = 0')\n",
    "        exit (-1)\n",
    "\n",
    "      if i != N - 1:\n",
    "        q[i] = aup[i] / w\n",
    "      g[i] = (b[i] - adown[i] * g[i - 1]) / w\n",
    "\n",
    "\n",
    "    #backward:\n",
    "    u[N -1] = g[N - 1] #ГУ\n",
    "    for i in range (N - 2, -1, -1): #обратный цикл\n",
    "      u[i] = g[i] - q[i] * u[i + 1]\n",
    "\n",
    "    return u"
   ]
  },
  {
   "cell_type": "code",
   "execution_count": 62,
   "id": "06b3ee7b-75ec-4579-bc79-8a7a6477f10c",
   "metadata": {},
   "outputs": [],
   "source": [
    "def checking(N, a, aup, adown, x):\n",
    "\n",
    "    res = np.zeros(len(x))\n",
    "\n",
    "    for i in range (len(x)):\n",
    "      if i > 0:\n",
    "        res[i] += adown[i] * x[i-1]\n",
    "      res[i] += a[i] * x[i]\n",
    "\n",
    "      if i < len(a) - 1:\n",
    "        res[i] += aup[i] * x[i+1]\n",
    "\n",
    "    return res"
   ]
  },
  {
   "cell_type": "code",
   "execution_count": 63,
   "id": "517c9b8d-be84-44c6-8fad-55b19e85b949",
   "metadata": {},
   "outputs": [],
   "source": [
    "def print_arr(string, namevec, a):\n",
    "    if (type(a) == int) or (type(a) == float):\n",
    "        print(a)\n",
    "    else:\n",
    "        print( string )\n",
    "        for k in range(len(a)):   \n",
    "            print(\"{}[{}] = {:8.4f}\".format(namevec, k, a[k]))"
   ]
  },
  {
   "cell_type": "code",
   "execution_count": 64,
   "id": "ec5f7629-33ab-49bb-859c-4290d7570b4f",
   "metadata": {},
   "outputs": [
    {
     "name": "stdout",
     "output_type": "stream",
     "text": [
      "Решение методом прогонки: \n",
      "u[0] =   5.0000\n",
      "u[1] =   9.0000\n",
      "u[2] =  12.0000\n",
      "u[3] =  14.0000\n",
      "u[4] =  15.0000\n",
      "u[5] =  15.0000\n",
      "u[6] =  14.0000\n",
      "u[7] =  12.0000\n",
      "u[8] =   9.0000\n",
      "u[9] =   5.0000\n",
      "Вектор b: [1 1 1 1 1 1 1 1 1 1]\n",
      "Проверка: \n",
      "В[0] =   1.0000\n",
      "В[1] =   1.0000\n",
      "В[2] =   1.0000\n",
      "В[3] =   1.0000\n",
      "В[4] =   1.0000\n",
      "В[5] =   1.0000\n",
      "В[6] =   1.0000\n",
      "В[7] =   1.0000\n",
      "В[8] =   1.0000\n",
      "В[9] =   1.0000\n"
     ]
    }
   ],
   "source": [
    "print_arr('Решение методом прогонки: ','u', Metod_Progonki(N, a, aup, adown, b))\n",
    "print('Вектор b:',b)\n",
    "print_arr('Проверка: ','В', checking(N, a, aup, adown, Metod_Progonki(N, a, aup, adown, b)))"
   ]
  },
  {
   "cell_type": "code",
   "execution_count": null,
   "id": "54f31d63-dbab-44b5-9c5c-233a5244f483",
   "metadata": {},
   "outputs": [],
   "source": []
  }
 ],
 "metadata": {
  "kernelspec": {
   "display_name": "Python 3 (ipykernel)",
   "language": "python",
   "name": "python3"
  },
  "language_info": {
   "codemirror_mode": {
    "name": "ipython",
    "version": 3
   },
   "file_extension": ".py",
   "mimetype": "text/x-python",
   "name": "python",
   "nbconvert_exporter": "python",
   "pygments_lexer": "ipython3",
   "version": "3.10.10"
  }
 },
 "nbformat": 4,
 "nbformat_minor": 5
}
